{
 "cells": [
  {
   "cell_type": "markdown",
   "source": [
    "# Detoxify"
   ],
   "metadata": {}
  },
  {
   "cell_type": "code",
   "execution_count": 1,
   "source": [
    "# add project root to PYTHONPATH\n",
    "import sys\n",
    "sys.path.append(\"../../\")"
   ],
   "outputs": [],
   "metadata": {}
  },
  {
   "cell_type": "code",
   "execution_count": 2,
   "source": [
    "# dependencies\n",
    "import os\n",
    "\n",
    "import nltk\n",
    "import detoxify\n",
    "import profanity_check\n",
    "from tqdm import tqdm\n",
    "import pandas as pd\n",
    "\n",
    "import constants as cst"
   ],
   "outputs": [],
   "metadata": {}
  },
  {
   "cell_type": "code",
   "execution_count": 3,
   "source": [
    "def sublists(l, max_len=None):\n",
    "    for i in range(len(l)):\n",
    "        if max_len:\n",
    "            assert isinstance(max_len, int)\n",
    "            for j in range(i, min(i + max_len, len(l))):\n",
    "                yield l[i:j + 1]\n",
    "        else:\n",
    "            for j in range(i, len(l)):\n",
    "                yield l[i:j + 1]\n",
    "\n",
    "def detox_score(texts, model, key):\n",
    "    return model.predict(texts)[key]\n",
    "\n",
    "\n",
    "def profanity_score(texts):\n",
    "    return profanity_check.predict_prob(texts)"
   ],
   "outputs": [],
   "metadata": {}
  },
  {
   "cell_type": "code",
   "execution_count": 4,
   "source": [
    "\n",
    "model = detoxify.Detoxify()"
   ],
   "outputs": [],
   "metadata": {}
  },
  {
   "cell_type": "code",
   "execution_count": 27,
   "source": [
    "def find_toxic_phrases(text, l_limit=None, u_limit=None, threshhold=0.4):\n",
    "    sents = nltk.tokenize.sent_tokenize(text)\n",
    "    outputs = []\n",
    "    for sent in sents[l_limit:u_limit]:\n",
    "        spit_string = sent.split(\" \")\n",
    "        substrings = [\" \".join(sublist) for sublist in sublists(spit_string)]\n",
    "        probs = detox_score(substrings, model, \"toxicity\")\n",
    "        probs = [p + 0.003 * (len(s) ** 0.5) for s, p in zip(substrings, probs)]\n",
    "        for prob, string in zip(probs, substrings):\n",
    "            if prob > threshhold:\n",
    "                outputs.append((prob, string))\n",
    "\n",
    "    return outputs"
   ],
   "outputs": [],
   "metadata": {}
  },
  {
   "cell_type": "code",
   "execution_count": 28,
   "source": [
    "discord_data_path = cst.PROJECT_ROOT + \"/data/raw/ext/discord/\"\n",
    "discord_chats = os.listdir(discord_data_path)\n",
    "data = pd.read_csv(discord_data_path + discord_chats[0])\n",
    "\n",
    "import random\n",
    "chat_strings = [s for s in data[\"Content\"].to_list() if isinstance(s, str)]\n",
    "for s in chat_strings[-500:-400]:\n",
    "    output = find_toxic_phrases(s, threshhold=0.2)\n",
    "    if output:\n",
    "        print(max(output, key=lambda t: t[0]) + (s,))\n",
    "    # for t in output:\n",
    "    #     print(t + (s,))"
   ],
   "outputs": [
    {
     "output_type": "stream",
     "name": "stdout",
     "text": [
      "(1.0062411068938004, 'fuck you', 'fuck you')\n",
      "(0.9198547568321228, 'too trash', 'this laptop too trash')\n",
      "(0.34658632553040136, ' come back', '@neo151219  come back')\n",
      "(0.7230622373606327, 'want some bgm', 'want some bgm')\n",
      "(0.5053926943800674, 'My fking', 'My fking bad')\n",
      "(0.3640147430637284, 'you', '@disappointed_doritos where have you been')\n",
      "(1.0048799899858152, 'poor pussy', 'poor pussy')\n",
      "(0.364014713261406, 'you', 'you have been taking care of your cat instead of playing _League of Legends_?')\n",
      "(0.8494009489712859, 'what a poor', 'what a poor allocation of time')\n",
      "(0.9130074373690839, 'trash', 'trash game')\n",
      "(0.3640147430637284, 'you', '@Jonathan Cheung are you coming')\n",
      "(0.364014713261406, 'you', 'I invite all of you to join me')\n",
      "(0.3640147430637284, 'you', 'To witness greatness you know')\n",
      "(0.364014713261406, 'you', 'it is a sad day for you')\n",
      "(0.9820740810839886, 'penis', 'penis')\n",
      "(0.9300549267790542, 'They die', 'They die')\n"
     ]
    }
   ],
   "metadata": {}
  },
  {
   "cell_type": "markdown",
   "source": [],
   "metadata": {}
  }
 ],
 "metadata": {
  "orig_nbformat": 4,
  "language_info": {
   "name": "python"
  }
 },
 "nbformat": 4,
 "nbformat_minor": 2
}