{
 "cells": [
  {
   "cell_type": "code",
   "execution_count": 1,
   "source": [
    "import sys\n",
    "\n",
    "sys.path.append(\"../../\")"
   ],
   "outputs": [],
   "metadata": {}
  },
  {
   "cell_type": "code",
   "execution_count": 3,
   "source": [
    "import nltk\n",
    "nltk.download(\"brown\")"
   ],
   "outputs": [
    {
     "output_type": "stream",
     "name": "stderr",
     "text": [
      "[nltk_data] Downloading package brown to /home/andylo/nltk_data...\n",
      "[nltk_data]   Unzipping corpora/brown.zip.\n"
     ]
    },
    {
     "output_type": "execute_result",
     "data": {
      "text/plain": [
       "True"
      ]
     },
     "metadata": {},
     "execution_count": 3
    }
   ],
   "metadata": {}
  },
  {
   "cell_type": "code",
   "execution_count": 42,
   "source": [
    "from nltk import word_tokenize, pos_tag\n",
    "from nltk import RegexpParser\n",
    "from nltk import Tree\n",
    "import pandas as pd\n",
    "\n",
    "import constants as cst\n",
    "\n",
    "# Defining a grammar & Parser\n",
    "NP = \"NP: {<PRP\\$?>?<JJ>*<(NN|NNP)>+}\"\n",
    "chunker = RegexpParser(NP)\n",
    "\n",
    "def get_continuous_chunks(text, chunk_func):\n",
    "    chunked = chunk_func(pos_tag(word_tokenize(text)))\n",
    "    noun_phrases = []\n",
    "    for subtree in chunked:\n",
    "        if type(subtree) == Tree:\n",
    "            noun_phrases.append(\" \".join([token for token, pos in subtree.leaves()]))\n",
    "    return noun_phrases\n",
    "\n",
    "with CoreNLPClient(\n",
    "        endpoint=\"http://localhost:5000\",\n",
    "        classpath=cst.CORENLP_HOME + \"/*\",\n",
    "        annotators=['parse'],\n",
    "        timeout=30000,\n",
    "        memory='4G',\n",
    "        output_format='json'\n",
    ") as client:\n",
    "    ann = client.annotate(text)\n",
    "with open(cst.PROJECT_ROOT + \"/data/raw/manual/samples/1.txt\") as f:\n",
    "    text = f.read()[:1000]\n",
    "    for noun in get_continuous_chunks(text, chunker.parse):\n",
    "df = pd.DataFrame({'text':[\n",
    "    'This is a foo, bar sentence with New York city.', \n",
    "    'John Fawcett is talking to Wendy as he is not very happy with the pen',\n",
    "    'your fat mum'\n",
    "    ]})\n",
    "\n",
    "\n",
    "# df['text'].apply(lambda sent: get_continuous_chunks(sent, chunker.parse))"
   ],
   "outputs": [
    {
     "output_type": "error",
     "ename": "IndentationError",
     "evalue": "expected an indented block (<ipython-input-42-9eb49af0e079>, line 23)",
     "traceback": [
      "\u001b[0;36m  File \u001b[0;32m\"<ipython-input-42-9eb49af0e079>\"\u001b[0;36m, line \u001b[0;32m23\u001b[0m\n\u001b[0;31m    df = pd.DataFrame({'text':[\u001b[0m\n\u001b[0m                               ^\u001b[0m\n\u001b[0;31mIndentationError\u001b[0m\u001b[0;31m:\u001b[0m expected an indented block\n"
     ]
    }
   ],
   "metadata": {}
  },
  {
   "cell_type": "code",
   "execution_count": 2,
   "source": [
    "import json\n",
    "from nltk.tree import Tree\n",
    "from stanza.server import CoreNLPClient\n",
    "\n",
    "import constants as cst"
   ],
   "outputs": [],
   "metadata": {}
  },
  {
   "cell_type": "code",
   "execution_count": 6,
   "source": [
    "text = '''John talks to Wendy as he is having lunch What is one plus one?\n",
    "Why are we still living here?\n",
    "'''\n",
    "with CoreNLPClient(\n",
    "        endpoint=\"http://localhost:5000\",\n",
    "        classpath=cst.CORENLP_HOME + \"/*\",\n",
    "        annotators=['parse', 'coref'],\n",
    "        timeout=30000,\n",
    "        memory='16G',\n",
    "        output_format='json'\n",
    ") as client:\n",
    "    ann = client.annotate(text)\n",
    "\n",
    "for sent in ann[\"sentences\"]:\n",
    "    tree = sent[\"parse\"]\n",
    "    Tree.fromstring(tree).pretty_print()"
   ],
   "outputs": [
    {
     "output_type": "stream",
     "name": "stderr",
     "text": [
      "2021-06-23 23:16:09 INFO: Writing properties to tmp file: corenlp_server-0982fed65cd6425c.props\n",
      "2021-06-23 23:16:09 INFO: Starting server with command: java -Xmx16G -cp /home/andylo/Projects/DiscordBot/QABot/lib/stanford-corenlp/stanford-corenlp-4.2.2/* edu.stanford.nlp.pipeline.StanfordCoreNLPServer -port 5000 -timeout 3000 -threads 5 -maxCharLength 100000 -quiet False -serverProperties corenlp_server-0982fed65cd6425c.props -annotators parse -preload -outputFormat json\n"
     ]
    },
    {
     "output_type": "stream",
     "name": "stdout",
     "text": [
      "                                           ROOT                                             \n",
      "                                            |                                                \n",
      "                                          SBARQ                                             \n",
      "             _______________________________|_____________________________________________   \n",
      "           PRN                                              |            |                | \n",
      "            |                                               |            |                |  \n",
      "            S                                               |            |                | \n",
      "  __________|_____________                                  |            |                |  \n",
      " |                        VP                                |            |                | \n",
      " |      __________________|_______                          |            |                |  \n",
      " |     |        |                SBAR                       |            |                | \n",
      " |     |        |          _______|____                     |            |                |  \n",
      " |     |        |         |            S                    |            SQ               | \n",
      " |     |        |         |    ________|____                |     _______|___             |  \n",
      " |     |        |         |   |             VP              |    |           NP           | \n",
      " |     |        |         |   |    _________|_____          |    |    _______|____        |  \n",
      " |     |        PP        |   |   |               VP        |    |   |            PP      | \n",
      " |     |     ___|____     |   |   |          _____|____     |    |   |        ____|___    |  \n",
      " NP    |    |        NP   |   NP  |         |          NP  WHNP  |   NP      |        NP  | \n",
      " |     |    |        |    |   |   |         |          |    |    |   |       |        |   |  \n",
      "NNP   VBZ   IN      NNP   IN PRP VBZ       VBG         NN   WP  VBZ  CD      CC       CD  . \n",
      " |     |    |        |    |   |   |         |          |    |    |   |       |        |   |  \n",
      "John talks  to     Wendy  as  he  is      having     lunch What  is one     plus     one  ? \n",
      "\n",
      "                ROOT                    \n",
      "                 |                       \n",
      "               SBARQ                    \n",
      "   ______________|____________________   \n",
      "  |              SQ                   | \n",
      "  |      ________|___________         |  \n",
      "  |     |   |    |           VP       | \n",
      "  |     |   |    |      _____|___     |  \n",
      "WHADVP  |   NP  ADVP   |        ADVP  | \n",
      "  |     |   |    |     |         |    |  \n",
      " WRB   VBP PRP   RB   VBG        RB   . \n",
      "  |     |   |    |     |         |    |  \n",
      " Why   are  we still living     here  ? \n",
      "\n"
     ]
    }
   ],
   "metadata": {}
  },
  {
   "cell_type": "code",
   "execution_count": 3,
   "source": [
    "import language_tool_python\n",
    "tool = language_tool_python.LanguageTool('en-US')\n"
   ],
   "outputs": [],
   "metadata": {}
  },
  {
   "cell_type": "code",
   "execution_count": 10,
   "source": [
    "import os, psutil; print(psutil.Process(os.getpid()).memory_info().rss / 1024 ** 2)"
   ],
   "outputs": [
    {
     "output_type": "stream",
     "name": "stdout",
     "text": [
      "88.215552\n"
     ]
    }
   ],
   "metadata": {}
  },
  {
   "cell_type": "code",
   "execution_count": 64,
   "source": [
    "sentence = \"your mum are moving online\"\n",
    "matches = tool.check(sentence)\n",
    "\n",
    "print(len(matches))\n",
    "language_tool_python.utils.correct(sentence, matches)"
   ],
   "outputs": [
    {
     "output_type": "stream",
     "name": "stdout",
     "text": [
      "0\n"
     ]
    },
    {
     "output_type": "execute_result",
     "data": {
      "text/plain": [
       "'As your mum takes your mum, your mum are moving online'"
      ]
     },
     "metadata": {},
     "execution_count": 64
    }
   ],
   "metadata": {}
  },
  {
   "cell_type": "code",
   "execution_count": 62,
   "source": [
    "from gingerit.gingerit import GingerIt\n",
    "\n",
    "text = 'your mum are moving'\n",
    "\n",
    "parser = GingerIt()\n",
    "parser.parse(text)"
   ],
   "outputs": [
    {
     "output_type": "execute_result",
     "data": {
      "text/plain": [
       "{'text': 'your mum are moving',\n",
       " 'result': 'your mum are moving',\n",
       " 'corrections': []}"
      ]
     },
     "metadata": {},
     "execution_count": 62
    }
   ],
   "metadata": {}
  }
 ],
 "metadata": {
  "orig_nbformat": 4,
  "language_info": {
   "name": "python"
  }
 },
 "nbformat": 4,
 "nbformat_minor": 2
}